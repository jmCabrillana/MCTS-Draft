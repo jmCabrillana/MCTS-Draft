{
 "cells": [
  {
   "cell_type": "markdown",
   "metadata": {},
   "source": [
    "# Win/Loss Prediction"
   ]
  },
  {
   "cell_type": "code",
   "execution_count": 29,
   "metadata": {},
   "outputs": [],
   "source": [
    "import pandas as pd\n",
    "import xgboost as xgb\n",
    "from sklearn.model_selection import train_test_split\n",
    "from sklearn.metrics import accuracy_score\n",
    "\n",
    "# Load the CSV data into a DataFrame\n",
    "data = pd.read_csv('win_loss.csv')\n",
    "\n",
    "# Separate features (X) and target (y)\n",
    "X = data.drop(columns=['win', 'match_id'])\n",
    "y = data['win']\n",
    "\n",
    "# Split the data into training and testing sets (e.g., 80% train, 20% test)\n",
    "X_train, X_test, y_train, y_test = train_test_split(X, y, test_size=0.2, random_state=42)\n",
    "\n"
   ]
  },
  {
   "cell_type": "code",
   "execution_count": 30,
   "metadata": {},
   "outputs": [
    {
     "name": "stdout",
     "output_type": "stream",
     "text": [
      "[0]\teval-logloss:0.69800\ttrain-logloss:0.67120\n",
      "[1]\teval-logloss:0.70157\ttrain-logloss:0.65386\n",
      "[2]\teval-logloss:0.70118\ttrain-logloss:0.63658\n",
      "[3]\teval-logloss:0.70658\ttrain-logloss:0.62007\n",
      "[4]\teval-logloss:0.71158\ttrain-logloss:0.60361\n",
      "[5]\teval-logloss:0.71776\ttrain-logloss:0.59111\n",
      "[6]\teval-logloss:0.71573\ttrain-logloss:0.58004\n",
      "[7]\teval-logloss:0.71260\ttrain-logloss:0.56700\n",
      "[8]\teval-logloss:0.71931\ttrain-logloss:0.55197\n",
      "[9]\teval-logloss:0.72065\ttrain-logloss:0.54025\n",
      "[10]\teval-logloss:0.73127\ttrain-logloss:0.52801\n",
      "[11]\teval-logloss:0.73607\ttrain-logloss:0.52148\n",
      "[12]\teval-logloss:0.74470\ttrain-logloss:0.51258\n",
      "[13]\teval-logloss:0.74752\ttrain-logloss:0.49994\n",
      "[14]\teval-logloss:0.74476\ttrain-logloss:0.49150\n",
      "[15]\teval-logloss:0.74910\ttrain-logloss:0.48399\n",
      "[16]\teval-logloss:0.74979\ttrain-logloss:0.47522\n",
      "[17]\teval-logloss:0.75275\ttrain-logloss:0.46522\n",
      "[18]\teval-logloss:0.75055\ttrain-logloss:0.45900\n",
      "[19]\teval-logloss:0.75277\ttrain-logloss:0.45298\n",
      "[20]\teval-logloss:0.75466\ttrain-logloss:0.44389\n",
      "[21]\teval-logloss:0.76378\ttrain-logloss:0.43475\n",
      "[22]\teval-logloss:0.76440\ttrain-logloss:0.42796\n",
      "[23]\teval-logloss:0.77616\ttrain-logloss:0.41780\n",
      "[24]\teval-logloss:0.77618\ttrain-logloss:0.40808\n",
      "[25]\teval-logloss:0.78027\ttrain-logloss:0.39972\n",
      "[26]\teval-logloss:0.78712\ttrain-logloss:0.39249\n",
      "[27]\teval-logloss:0.79052\ttrain-logloss:0.38654\n",
      "[28]\teval-logloss:0.80164\ttrain-logloss:0.38062\n",
      "[29]\teval-logloss:0.80654\ttrain-logloss:0.37229\n"
     ]
    },
    {
     "name": "stderr",
     "output_type": "stream",
     "text": [
      "/Users/jm/opt/anaconda3/lib/python3.9/site-packages/xgboost/core.py:726: FutureWarning: Pass `evals` as keyword args.\n",
      "  warnings.warn(msg, FutureWarning)\n"
     ]
    }
   ],
   "source": [
    "# Specify categorical columns (if any)\n",
    "categorical_cols = ['enemies_0', 'enemies_1', 'enemies_2', 'enemies_3',\n",
    "       'enemies_4', 'teammates_0', 'teammates_1', 'teammates_2', 'teammates_3',\n",
    "       'teammates_4']  # Add the names of categorical columns here\n",
    "\n",
    "# Create an XGBoost DMatrix with categorical feature support\n",
    "dtrain = xgb.DMatrix(X_train, label=y_train, enable_categorical=categorical_cols)\n",
    "dtest = xgb.DMatrix(X_test, label=y_test, enable_categorical=categorical_cols)\n",
    "\n",
    "# Define XGBoost parameters\n",
    "params = {\n",
    "    'objective': 'binary:logistic',\n",
    "    'eval_metric': 'logloss',  # You can use other metrics as well\n",
    "    'eta': 0.1,  # Learning rate\n",
    "    'max_depth': 6,  # Max depth of the tree\n",
    "    'min_child_weight': 1,  # Minimum sum of instance weight (hessian)\n",
    "    'gamma': 0,  # Minimum loss reduction required to make a further partition on a leaf node\n",
    "    'subsample': 0.8,  # Fraction of samples used for training\n",
    "    'colsample_bytree': 0.8,  # Fraction of features used for training\n",
    "    'nthread': -1,  # Use all available CPU threads\n",
    "    'random_state': 42\n",
    "}\n",
    "\n",
    "# Train the XGBoost classifier\n",
    "num_round = 30  # You can adjust this based on your dataset\n",
    "bst = xgb.train(params, dtrain, num_round, [(dtest,'eval'), (dtrain,'train')])"
   ]
  },
  {
   "cell_type": "code",
   "execution_count": 31,
   "metadata": {},
   "outputs": [
    {
     "name": "stdout",
     "output_type": "stream",
     "text": [
      "Accuracy: 46.00%\n"
     ]
    }
   ],
   "source": [
    "# Make predictions on the test set\n",
    "y_pred = bst.predict(dtest)\n",
    "\n",
    "# Convert predicted probabilities to binary predictions (0 or 1)\n",
    "y_pred_binary = [1 if p >= 0.5 else 0 for p in y_pred]\n",
    "\n",
    "# Calculate accuracy\n",
    "accuracy = accuracy_score(y_test, y_pred_binary)\n",
    "print(f'Accuracy: {accuracy * 100:.2f}%')"
   ]
  },
  {
   "cell_type": "code",
   "execution_count": 32,
   "metadata": {},
   "outputs": [
    {
     "data": {
      "image/png": "[encoded data removed]",
      "text/plain": [
       "<Figure size 576x432 with 1 Axes>"
      ]
     },
     "metadata": {
      "needs_background": "light"
     },
     "output_type": "display_data"
    }
   ],
   "source": [
    "import matplotlib.pyplot as plt\n",
    "from sklearn.metrics import roc_curve, roc_auc_score, auc\n",
    "\n",
    "# Get predicted probabilities for the positive class (class 1)\n",
    "y_pred_prob = -bst.predict(dtest)\n",
    "\n",
    "# Compute the ROC curve\n",
    "fpr, tpr, thresholds = roc_curve(y_test, y_pred_prob)\n",
    "\n",
    "# Calculate the Area Under the ROC Curve (AUC)\n",
    "roc_auc = auc(fpr, tpr)\n",
    "\n",
    "# Plot the ROC curve\n",
    "plt.figure(figsize=(8, 6))\n",
    "plt.plot(fpr, tpr, color='darkorange', lw=2, label=f'ROC curve (AUC = {roc_auc:.2f})')\n",
    "plt.plot([0, 1], [0, 1], color='navy', lw=2, linestyle='--')\n",
    "plt.xlim([0.0, 1.0])\n",
    "plt.ylim([0.0, 1.05])\n",
    "plt.xlabel('False Positive Rate')\n",
    "plt.ylabel('True Positive Rate')\n",
    "plt.title('Receiver Operating Characteristic (ROC) Curve')\n",
    "plt.legend(loc='lower right')\n",
    "plt.show()"
   ]
  },
  {
   "cell_type": "markdown",
   "metadata": {},
   "source": [
    "# MCTS"
   ]
  },
  {
   "cell_type": "code",
   "execution_count": 33,
   "metadata": {},
   "outputs": [],
   "source": [
    "\"\"\"\n",
    "A minimal implementation of Monte Carlo tree search (MCTS) in Python 3\n",
    "Luke Harold Miles, July 2019, Public Domain Dedication\n",
    "See also https://en.wikipedia.org/wiki/Monte_Carlo_tree_search\n",
    "https://gist.github.com/qpwo/c538c6f73727e254fdc7fab81024f6e1\n",
    "\"\"\"\n",
    "from abc import ABC, abstractmethod\n",
    "from collections import defaultdict\n",
    "import math\n",
    "import random\n",
    "\n",
    "heroes_set = {i for i in range(5)}\n",
    "max_plays = 4\n",
    "ban_turns = [0,1]\n",
    "def probability_pick(depth, hero):\n",
    "    return hero/(1+depth*60)\n",
    "def model_win_rate(predecessors):\n",
    "    return 0.5\n",
    "\n",
    "\n",
    "class MCTS:\n",
    "    \"Monte Carlo tree searcher. First rollout the tree then choose a move.\"\n",
    "\n",
    "    def __init__(self, exploration_weight=1):\n",
    "        self.Q = defaultdict(int)  # total reward of each node\n",
    "        self.N = defaultdict(int)  # total visit count for each node\n",
    "        self.children = dict()  # children of each node\n",
    "        self.exploration_weight = exploration_weight\n",
    "\n",
    "    def choose(self, node):\n",
    "        \"Choose the best successor of node. (Choose a move in the game)\"\n",
    "        if node.is_terminal():\n",
    "            raise RuntimeError(f\"choose called on terminal node {node}\")\n",
    "\n",
    "        if node not in self.children:\n",
    "            return node.find_random_child()\n",
    "\n",
    "        def score(n):\n",
    "            if self.N[n] == 0:\n",
    "                return float(\"-inf\")  # avoid unseen moves\n",
    "            return self.Q[n] / self.N[n]  # average reward\n",
    "\n",
    "        return max(self.children[node], key=score)\n",
    "\n",
    "    def do_rollout(self, node):\n",
    "        \"Make the tree one layer better. (Train for one iteration.)\"\n",
    "        path = self._select(node)\n",
    "        leaf = path[-1]\n",
    "        self._expand(leaf)\n",
    "        reward = self._simulate(leaf)\n",
    "        self._backpropagate(path, reward)\n",
    "\n",
    "    def _select(self, node):\n",
    "        \"Find an unexplored descendent of `node`\"\n",
    "        path = []\n",
    "        while True:\n",
    "            path.append(node)\n",
    "            print(node.__hash__())\n",
    "            if node not in self.children or node.is_terminal(): # is terminal only when the algo finishes\n",
    "                return path\n",
    "            print('children', set(self.children[node]))\n",
    "            print('keys: ', set(self.children.keys()))\n",
    "            unexplored = set(self.children[node]) - set(self.children.keys())\n",
    "            print('unexplored', unexplored)\n",
    "            if unexplored:\n",
    "                n = unexplored.pop()\n",
    "                path.append(n)\n",
    "                return path\n",
    "            node = self._uct_select(node)  # descend a layer deeper\n",
    "\n",
    "    def _expand(self, node):\n",
    "        \"Update the `children` dict with the children of `node`\"\n",
    "        if node in self.children:\n",
    "            return  # already expanded\n",
    "        self.children[node] = node.find_children()\n",
    "\n",
    "    def _simulate(self, node):\n",
    "        \"Returns the reward for a random simulation (to completion) of `node`\"\n",
    "        while True:\n",
    "            if node.is_terminal():\n",
    "                return node.reward()\n",
    "            node = node.find_random_child()\n",
    "\n",
    "    def _backpropagate(self, path, reward):\n",
    "        \"Send the reward back up to the ancestors of the leaf\"\n",
    "        for node in reversed(path):\n",
    "            self.N[node] += 1\n",
    "            self.Q[node] += reward\n",
    "            reward = -reward  # 1 for me is 0 for my enemy, and vice versa\n",
    "\n",
    "    def _uct_select(self, node):\n",
    "        \"Select a child of node, balancing exploration & exploitation\"\n",
    "\n",
    "        # All children of node should already be expanded:\n",
    "        assert all(n in self.children for n in self.children[node])\n",
    "\n",
    "        log_N_vertex = math.log(self.N[node])\n",
    "\n",
    "        def uct(n):\n",
    "            \"Upper confidence bound for trees\"\n",
    "            return self.Q[n] / self.N[n] + self.exploration_weight * math.sqrt(\n",
    "                log_N_vertex / self.N[n]\n",
    "            )\n",
    "\n",
    "        return max(self.children[node], key=uct)\n",
    "\n",
    "\n",
    "class Node(ABC):\n",
    "    \"\"\"\n",
    "    A representation of a single board state.\n",
    "    MCTS works by constructing a tree of these Nodes.\n",
    "    Could be e.g. a chess or checkers board state.\n",
    "    \"\"\"\n",
    "    \n",
    "    def __init__(self, predecessors=set()):\n",
    "        self.predecessors=predecessors\n",
    "        self.depth=len(predecessors)\n",
    "\n",
    "    def find_children(self):\n",
    "        \"All possible successors of this board state\"\n",
    "        children = []\n",
    "        for state in heroes_set.difference(self.predecessors):\n",
    "            child_preds = self.predecessors.copy()\n",
    "            child_preds.add(state)\n",
    "            children.append(Node(child_preds))\n",
    "        return children\n",
    "\n",
    "    def find_random_child(self):\n",
    "        \"Random successor of this board state (for more efficient simulation)\"\n",
    "        state = random.choice( list(heroes_set.difference(self.predecessors)) )\n",
    "        child_preds = self.predecessors.copy()\n",
    "        child_preds.add(state)\n",
    "        return Node(child_preds)\n",
    "\n",
    "    def is_terminal(self):\n",
    "        \"Returns True if the node has no children\"\n",
    "        return self.depth==max_plays-1\n",
    "\n",
    "    def reward(self):\n",
    "        \"Assumes `self` is terminal node. 1=win, 0=loss, .5=tie, etc\"\n",
    "        prob=1\n",
    "        for (i, state) in enumerate(self.predecessors):\n",
    "            prob *= probability_pick(i, state)\n",
    "        return prob*model_win_rate(self.predecessors)\n",
    "\n",
    "    def __hash__(self):\n",
    "        \"Nodes must be hashable\"\n",
    "        if self.predecessors == set():\n",
    "            return -1\n",
    "        return int(''.join(map(str, self.predecessors)))\n",
    "\n",
    "    def __eq__(node1, node2):\n",
    "        \"Nodes must be comparable\"\n",
    "        return node1.__hash__() == node2.__hash__()\n",
    "    \n",
    "    def __str__(self):\n",
    "        if self.predecessors == set():\n",
    "            return str(-1)\n",
    "        return ''.join(map(str, self.predecessors))\n"
   ]
  },
  {
   "cell_type": "code",
   "execution_count": 34,
   "metadata": {},
   "outputs": [],
   "source": [
    "node0 = Node()\n",
    "\n",
    "mcts=MCTS()\n",
    "\n",
    "mcts.do_rollout(node0)\n",
    "print(mcts.Q.values())"
   ]
  },
  {
   "cell_type": "code",
   "execution_count": null,
   "metadata": {},
   "outputs": [],
   "source": [
    "for i in range(100000):\n",
    "    mcts.do_rollout(node0)"
   ]
  },
  {
   "cell_type": "code",
   "execution_count": 37,
   "metadata": {},
   "outputs": [
    {
     "data": {
      "text/plain": [
       "1"
      ]
     },
     "execution_count": 37,
     "metadata": {},
     "output_type": "execute_result"
    }
   ],
   "source": [
    "len(mcts.children.values())"
   ]
  },
  {
   "cell_type": "code",
   "execution_count": 75,
   "metadata": {},
   "outputs": [
    {
     "data": {
      "image/png": "[encoded data removed]",
      "text/plain": [
       "<Figure size 432x288 with 1 Axes>"
      ]
     },
     "metadata": {},
     "output_type": "display_data"
    }
   ],
   "source": [
    "import networkx as nx\n",
    "import matplotlib.pyplot as plt\n",
    "\n",
    "# Build the tree\n",
    "G = nx.Graph()\n",
    "stack = [(None, node0)]  # (parent, current_node)\n",
    "visited = set()  # To keep track of visited nodes\n",
    "while stack:\n",
    "    parent, node = stack.pop()\n",
    "    if node not in visited:\n",
    "        visited.add(node)\n",
    "        if parent is not None:\n",
    "            G.add_edge(parent, node)\n",
    "        if node in mcts.children:\n",
    "            for child in mcts.children[node]:\n",
    "                stack.append((node, child))\n",
    "node_values = { n: mcts.Q[n]/(1+mcts.N[n]) for n in mcts.Q.keys()}\n",
    "\n",
    "# Graphics\n",
    "pos = nx.spring_layout(G)  # Define the layout of the tree\n",
    "#pos = nx.drawing.nx_agraph.graphviz_layout(G, prog='dot')\n",
    "node_colors = [node_values[node] for node in G.nodes]\n",
    "\n",
    "# Modify the labels dictionary to display only the first few digits (e.g., 3 digits)\n",
    "labels = {node: f\"{mcts.Q[node]:.3f}\" for node in G.nodes}\n",
    "\n",
    "# Adjust vertical positions of nodes\n",
    "label_pos = {k: (x, y - 0.05) for k, (x, y) in pos.items()}\n",
    "\n",
    "# Draw the nodes and edges\n",
    "nx.draw(G, pos, with_labels=True, node_color=node_colors, cmap=plt.cm.Blues, node_size=500)\n",
    "labels = {node: f\"{mcts.Q[node]:.3f}\" for node in G.nodes}\n",
    "nx.draw_networkx_labels(G, label_pos, labels=labels, font_size=10, verticalalignment=\"top\")\n",
    "\n",
    "# Show the plot\n",
    "plt.show()\n",
    "\n"
   ]
  },
  {
   "cell_type": "code",
   "execution_count": 392,
   "metadata": {},
   "outputs": [
    {
     "name": "stdout",
     "output_type": "stream",
     "text": [
      "Requirement already satisfied: pip in /Users/jm/opt/anaconda3/lib/python3.9/site-packages (23.1.2)\n",
      "Collecting pip\n",
      "  Downloading pip-23.2.1-py3-none-any.whl (2.1 MB)\n",
      "\u001b[2K     \u001b[90m━━━━━━━━━━━━━━━━━━━━━━━━━━━━━━━━━━━━━━━━\u001b[0m \u001b[32m2.1/2.1 MB\u001b[0m \u001b[31m19.3 MB/s\u001b[0m eta \u001b[36m0:00:00\u001b[0m00:01\u001b[0m00:01\u001b[0m\n",
      "\u001b[?25hInstalling collected packages: pip\n",
      "  Attempting uninstall: pip\n",
      "    Found existing installation: pip 23.1.2\n",
      "    Uninstalling pip-23.1.2:\n",
      "      Successfully uninstalled pip-23.1.2\n",
      "Successfully installed pip-23.2.1\n"
     ]
    }
   ],
   "source": [
    "!python -m pip install --upgrade pip"
   ]
  },
  {
   "cell_type": "code",
   "execution_count": null,
   "metadata": {},
   "outputs": [],
   "source": [
    "!arch -arm64 brew install graphviz"
   ]
  },
  {
   "cell_type": "code",
   "execution_count": 406,
   "metadata": {},
   "outputs": [
    {
     "name": "stdout",
     "output_type": "stream",
     "text": [
      "Found existing installation: pygraphviz 1.11\r\n",
      "Uninstalling pygraphviz-1.11:\r\n",
      "  Successfully uninstalled pygraphviz-1.11\r\n"
     ]
    }
   ],
   "source": [
    "!pip uninstall pygraphviz -y"
   ]
  },
  {
   "cell_type": "code",
   "execution_count": 23,
   "metadata": {},
   "outputs": [
    {
     "name": "stdout",
     "output_type": "stream",
     "text": [
      "Requirement already satisfied: pygraphviz in /Users/jm/opt/anaconda3/lib/python3.9/site-packages (1.6)\n",
      "\u001b[33mDEPRECATION: pyodbc 4.0.0-unsupported has a non-standard version number. pip 23.3 will enforce this behaviour change. A possible replacement is to upgrade to a newer version of pyodbc or contact the author to suggest that they release a version with a conforming version number. Discussion can be found at https://github.com/pypa/pip/issues/12063\u001b[0m\u001b[33m\n",
      "\u001b[0m"
     ]
    }
   ],
   "source": [
    "!pip install pygraphviz"
   ]
  },
  {
   "cell_type": "code",
   "execution_count": 55,
   "metadata": {},
   "outputs": [
    {
     "data": {
      "text/plain": [
       "0.001"
      ]
     },
     "execution_count": 55,
     "metadata": {},
     "output_type": "execute_result"
    }
   ],
   "source": [
    "1e-3"
   ]
  }
 ],
 "metadata": {
  "kernelspec": {
   "display_name": "Python 3 (ipykernel)",
   "language": "python",
   "name": "python3"
  },
  "language_info": {
   "codemirror_mode": {
    "name": "ipython",
    "version": 3
   },
   "file_extension": ".py",
   "mimetype": "text/x-python",
   "name": "python",
   "nbconvert_exporter": "python",
   "pygments_lexer": "ipython3",
   "version": "3.9.7"
  }
 },
 "nbformat": 4,
 "nbformat_minor": 2
}
